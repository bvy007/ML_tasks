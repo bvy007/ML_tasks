{
 "cells": [
  {
   "cell_type": "markdown",
   "metadata": {},
   "source": [
    "# Model"
   ]
  },
  {
   "cell_type": "code",
   "execution_count": 1,
   "metadata": {},
   "outputs": [
    {
     "name": "stdout",
     "output_type": "stream",
     "text": [
      "Environment Variable: package_dir has not been set to default: C:/Users/Vamshi/__Workspace__/jda/\n",
      "Environment Variable: config_dir has not been set to default: config/\n",
      "CSV Service Read from File: C:/Users/Vamshi/__Workspace__/jda/data/hour.csv\n",
      "\n",
      "\n",
      "Starting to fit the data with the selected model\n",
      "Fitting the data with selected model has completed successfully\n",
      "Predictions over the test data has started!\n",
      "Predictions over the test data is done!\n",
      "\n",
      "\n",
      "R-squared and MAD scores are as following:\n",
      "R-Squared on train dataset = 0.9815853158895873\n",
      "R-Squared on test dataset = 0.9805897193862108\n",
      "Mean Absolute Deviation on test dataset = 16.811597996930786\n"
     ]
    }
   ],
   "source": [
    "from trainer import Trainer\n",
    "\n",
    "regressor = Trainer()\n",
    "predictions = regressor.fit_predict()\n",
    "r2_score_train, r2_score_test, mean_absolute_deviation = regressor.score()"
   ]
  },
  {
   "cell_type": "code",
   "execution_count": null,
   "metadata": {},
   "outputs": [],
   "source": []
  },
  {
   "cell_type": "code",
   "execution_count": null,
   "metadata": {},
   "outputs": [],
   "source": []
  }
 ],
 "metadata": {
  "kernelspec": {
   "display_name": "Python 3",
   "language": "python",
   "name": "python3"
  },
  "language_info": {
   "codemirror_mode": {
    "name": "ipython",
    "version": 3
   },
   "file_extension": ".py",
   "mimetype": "text/x-python",
   "name": "python",
   "nbconvert_exporter": "python",
   "pygments_lexer": "ipython3",
   "version": "3.6.8"
  }
 },
 "nbformat": 4,
 "nbformat_minor": 2
}
